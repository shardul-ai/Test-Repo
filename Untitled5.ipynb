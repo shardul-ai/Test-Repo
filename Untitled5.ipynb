{
  "nbformat": 4,
  "nbformat_minor": 0,
  "metadata": {
    "colab": {
      "provenance": [],
      "authorship_tag": "ABX9TyParMFeqHkU6Bg/I0uXWfEF",
      "include_colab_link": true
    },
    "kernelspec": {
      "name": "python3",
      "display_name": "Python 3"
    },
    "language_info": {
      "name": "python"
    }
  },
  "cells": [
    {
      "cell_type": "markdown",
      "metadata": {
        "id": "view-in-github",
        "colab_type": "text"
      },
      "source": [
        "<a href=\"https://colab.research.google.com/github/shardul-ai/Test-Repo/blob/main/Untitled5.ipynb\" target=\"_parent\"><img src=\"https://colab.research.google.com/assets/colab-badge.svg\" alt=\"Open In Colab\"/></a>"
      ]
    },
    {
      "cell_type": "code",
      "execution_count": null,
      "metadata": {
        "id": "ENrDl_oADyJp"
      },
      "outputs": [],
      "source": [
        "#Description : A simple Expense tracker"
      ]
    },
    {
      "cell_type": "code",
      "source": [
        "#Imoprt the librabries.\n",
        "import numpy as np\n",
        "import pandas as pd\n",
        "from datetime import date"
      ],
      "metadata": {
        "id": "J4YfFcgAD9Cj"
      },
      "execution_count": 40,
      "outputs": []
    },
    {
      "cell_type": "code",
      "source": [
        "#Create Empty list.\n",
        "GOODS_OR_SERVICES = []\n",
        "PRICES = []\n",
        "DATES = []\n",
        "EXPENSE_TYPE = []"
      ],
      "metadata": {
        "id": "4ND5csAiEdzU"
      },
      "execution_count": 41,
      "outputs": []
    },
    {
      "cell_type": "code",
      "source": [
        "#Create a function to add the expenses to the list and organize the data.\n",
        "def add_expense(good_or_sevice,price,date,expense_type):\n",
        "   GOODS_OR_SERVICES.append(good_or_sevice)\n",
        "   PRICES.append(price)\n",
        "   DATES.append(date)\n",
        "   EXPENSE_TYPE.append(expense_type)\n",
        "\n"
      ],
      "metadata": {
        "id": "55FmVm3DIi6A"
      },
      "execution_count": 42,
      "outputs": []
    },
    {
      "cell_type": "code",
      "source": [
        "#Main Program\n",
        "option = -1 #This will be users option.\n",
        "while(option != 0):\n",
        "  print('Welcome to the simple expense tracker:')\n",
        "  print('1. Add food Expense')\n",
        "  print('2. Add Household Expense')\n",
        "  print('3. Add Transport Expense')\n",
        "  print('4. Show and Save The Expense Report ')\n",
        "  print('0. Exit')\n",
        "  option = int(input('Choose an option:\\n'))\n",
        "\n",
        "\n",
        "  #print a new line.\n",
        "  print()\n",
        "  #Check for user option or choice or input.\n",
        "  if option == 0:\n",
        "    print('Exiting the program')\n",
        "    break\n",
        "  elif option == 1:\n",
        "     print('Adding Food')\n",
        "     expense_type = 'FOOD'\n",
        "  elif option == 2:\n",
        "    print('Adding Household')\n",
        "    expense_type = 'HOUSEHOLD'\n",
        "  elif option == 3:\n",
        "   print('Adding Transportation')\n",
        "   expense_type = 'TRANSPORTATION'\n",
        "  elif option == 4:\n",
        "  #Create a new data frame and add the expenses.\n",
        "    expense_report = pd.DataFrame()\n",
        "    expense_report['GOODS_OR_SERVICES'] = GOODS_OR_SERVICES\n",
        "    expense_report[ 'PRICES'] = PRICES\n",
        "    expense_report['DATES']  = DATES\n",
        "\n",
        "    expense_report['EXPENSE_TYPES'] = EXPENSE_TYPE\n",
        "   #Save the expense report\n",
        "    expense_report.to_csv('expense.csv')\n",
        "    #Show the expense\n",
        "    print(expense_report)\n",
        "  else:\n",
        "     print('You chose an incorrect option. Please choose 1, 2, 3 or 4')\n",
        "     #Allow the user to enter the good or service and the price\n",
        "  if option == 1 or option == 2 or option == 3 or option == 4 :\n",
        "     good_or_services = input('Enter the good or service for the expense type'+expense_type+':\\n')\n",
        "     price = float(input('Enter the price of good or service:\\n'))\n",
        "     today = date.today()\n",
        "     add_expense(good_or_service, price, today, expense_type)\n",
        "\f\n",
        "     #Print a new line\n",
        "     print()\n",
        "\n",
        "\n"
      ],
      "metadata": {
        "id": "t7WMxsLCJ18u",
        "colab": {
          "base_uri": "https://localhost:8080/",
          "height": 477
        },
        "outputId": "ea0afbcf-93e7-4948-968f-3c226a5c4344"
      },
      "execution_count": 46,
      "outputs": [
        {
          "name": "stdout",
          "output_type": "stream",
          "text": [
            "Welcome to the simple expense tracker:\n",
            "1. Add food Expense\n",
            "2. Add Household Expense\n",
            "3. Add Transport Expense\n",
            "4. Show and Save The Expense Report \n",
            "0. Exit\n",
            "Choose an option:\n",
            "1\n",
            "\n",
            "Adding Food\n",
            "Enter the good or service for the expense typeFOOD:\n",
            "apple\n",
            "Enter the price of good or service:\n",
            "0.34\n"
          ]
        },
        {
          "output_type": "error",
          "ename": "NameError",
          "evalue": "ignored",
          "traceback": [
            "\u001b[0;31m---------------------------------------------------------------------------\u001b[0m",
            "\u001b[0;31mNameError\u001b[0m                                 Traceback (most recent call last)",
            "\u001b[0;32m<ipython-input-46-4d0514265f6b>\u001b[0m in \u001b[0;36m<module>\u001b[0;34m\u001b[0m\n\u001b[1;32m     45\u001b[0m      \u001b[0mprice\u001b[0m \u001b[0;34m=\u001b[0m \u001b[0mfloat\u001b[0m\u001b[0;34m(\u001b[0m\u001b[0minput\u001b[0m\u001b[0;34m(\u001b[0m\u001b[0;34m'Enter the price of good or service:\\n'\u001b[0m\u001b[0;34m)\u001b[0m\u001b[0;34m)\u001b[0m\u001b[0;34m\u001b[0m\u001b[0;34m\u001b[0m\u001b[0m\n\u001b[1;32m     46\u001b[0m      \u001b[0mtoday\u001b[0m \u001b[0;34m=\u001b[0m \u001b[0mdate\u001b[0m\u001b[0;34m.\u001b[0m\u001b[0mtoday\u001b[0m\u001b[0;34m(\u001b[0m\u001b[0;34m)\u001b[0m\u001b[0;34m\u001b[0m\u001b[0;34m\u001b[0m\u001b[0m\n\u001b[0;32m---> 47\u001b[0;31m      \u001b[0madd_expense\u001b[0m\u001b[0;34m(\u001b[0m\u001b[0mgood_or_service\u001b[0m\u001b[0;34m,\u001b[0m \u001b[0mprice\u001b[0m\u001b[0;34m,\u001b[0m \u001b[0mtoday\u001b[0m\u001b[0;34m,\u001b[0m \u001b[0mexpense_type\u001b[0m\u001b[0;34m)\u001b[0m\u001b[0;34m\u001b[0m\u001b[0;34m\u001b[0m\u001b[0m\n\u001b[0m\u001b[1;32m     48\u001b[0m \u001b[0;34m\u001b[0m\u001b[0m\n\u001b[1;32m     49\u001b[0m \u001b[0;34m\u001b[0m\u001b[0m\n",
            "\u001b[0;31mNameError\u001b[0m: name 'good_or_service' is not defined"
          ]
        }
      ]
    },
    {
      "cell_type": "code",
      "source": [],
      "metadata": {
        "id": "tnNAaH18rFGf"
      },
      "execution_count": null,
      "outputs": []
    }
  ]
}